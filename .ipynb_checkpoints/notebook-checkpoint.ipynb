{
 "cells": [
  {
   "cell_type": "code",
   "execution_count": null,
   "id": "70576dca-7a4d-42cc-941c-396e9f93c885",
   "metadata": {},
   "outputs": [],
   "source": [
    "import os\n",
    "import pandas as pd\n",
    "import numpy as np\n",
    "import matplotlib.pyplot as plt\n",
    "from scipy.signal import savgol_filter\n",
    "from datetime import datetime\n",
    "\n",
    "%matplotlib inline\n",
    "\n",
    "log_dir = \"logs\"\n",
    "\n",
    "def load_logs(log_dir):\n",
    "    frames = []\n",
    "    for file in os.listdir(log_dir):\n",
    "        if file.endswith(\".csv\"):\n",
    "            df = pd.read_csv(os.path.join(log_dir, file))\n",
    "            frames.append(df)\n",
    "    return pd.concat(frames, ignore_index=True)\n",
    "\n",
    "df = load_logs(log_dir)\n",
    "df[\"timestamp\"] = pd.to_datetime(df[\"timestamp\"])\n",
    "df = df.sort_values(\"timestamp\")\n",
    "\n",
    "print(\"Dostępne czujniki:\", df[\"sensor_id\"].unique())\n",
    "\n",
    "# Lista czujników i opisów\n",
    "czujniki = {\n",
    "    \"T-001\": \"temperatura (°C)\",\n",
    "    \"P-001\": \"ciśnienie (hPa)\",\n",
    "    \"L-001\": \"światło (lx)\",\n",
    "    \"H-001\": \"wilgotność (%)\"\n",
    "}\n",
    "\n",
    "for sensor, opis in czujniki.items():\n",
    "    df_temp = df[df[\"sensor_id\"] == sensor].copy()\n",
    "    df_temp[\"value\"] = df_temp[\"value\"].astype(float)\n",
    "\n",
    "    średnia = df_temp[\"value\"].mean()\n",
    "\n",
    "    # Wygładzanie (jeśli wystarczająco danych)\n",
    "    window = 51 if len(df_temp) > 100 else 5\n",
    "    smoothed = savgol_filter(df_temp[\"value\"], window_length=window, polyorder=3)\n",
    "\n",
    "    # Wykres\n",
    "    plt.figure(figsize=(12, 5))\n",
    "    plt.plot(df_temp[\"timestamp\"], df_temp[\"value\"], alpha=0.5, label=\"Oryginalne\")\n",
    "    plt.plot(df_temp[\"timestamp\"], smoothed, color='green', label=\"Wygładzone\")\n",
    "    plt.axhline(y=średnia, color=\"red\", linestyle=\"--\", label=f\"Średnia = {średnia:.2f}\")\n",
    "    plt.title(f\"Czujnik {sensor} – {opis}\")\n",
    "    plt.xlabel(\"Czas\")\n",
    "    plt.ylabel(\"Wartość\")\n",
    "    plt.legend()\n",
    "    plt.grid()\n",
    "    plt.show()\n"
   ]
  },
  {
   "cell_type": "code",
   "execution_count": null,
   "id": "457a36c3-8589-483c-aa3d-95baabacfa7c",
   "metadata": {},
   "outputs": [],
   "source": []
  }
 ],
 "metadata": {
  "kernelspec": {
   "display_name": "Python 3 (ipykernel)",
   "language": "python",
   "name": "python3"
  },
  "language_info": {
   "codemirror_mode": {
    "name": "ipython",
    "version": 3
   },
   "file_extension": ".py",
   "mimetype": "text/x-python",
   "name": "python",
   "nbconvert_exporter": "python",
   "pygments_lexer": "ipython3",
   "version": "3.11.4"
  }
 },
 "nbformat": 4,
 "nbformat_minor": 5
}
